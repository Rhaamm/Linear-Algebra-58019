{
  "nbformat": 4,
  "nbformat_minor": 0,
  "metadata": {
    "colab": {
      "name": "FinalExam.ipynb",
      "provenance": [],
      "authorship_tag": "ABX9TyOvu/C5dB9oOO7yY+BrnDgL",
      "include_colab_link": true
    },
    "kernelspec": {
      "name": "python3",
      "display_name": "Python 3"
    },
    "language_info": {
      "name": "python"
    }
  },
  "cells": [
    {
      "cell_type": "markdown",
      "metadata": {
        "id": "view-in-github",
        "colab_type": "text"
      },
      "source": [
        "<a href=\"https://colab.research.google.com/github/Rhaamm/Linear-Algebra-58019/blob/main/FinalExam.ipynb\" target=\"_parent\"><img src=\"https://colab.research.google.com/assets/colab-badge.svg\" alt=\"Open In Colab\"/></a>"
      ]
    },
    {
      "cell_type": "markdown",
      "source": [
        "Problem 1. Student A, Student B, and Student C have a total of Php 89 cash in their banks. Student A has 6 less than Student C. Student B has 3 times what Student C has. How much does each student have? (30 points)"
      ],
      "metadata": {
        "id": "5xzEJ-eGP6iM"
      }
    },
    {
      "cell_type": "code",
      "source": [
        "eq1 = np.array([[1,1,1], [1,0,4], [0,0,5]])\n",
        "eq2 = np.array([[89], [89], [95]])\n",
        "amt = np.linalg.inv(eq1).dot(eq2)\n",
        "print(amt)"
      ],
      "metadata": {
        "colab": {
          "base_uri": "https://localhost:8080/"
        },
        "id": "EjlLtVE2P5Y4",
        "outputId": "f9fd1ba4-4d79-40fb-90a0-5606c2ee7b51"
      },
      "execution_count": 24,
      "outputs": [
        {
          "output_type": "stream",
          "name": "stdout",
          "text": [
            "[[13.]\n",
            " [57.]\n",
            " [19.]]\n"
          ]
        }
      ]
    },
    {
      "cell_type": "markdown",
      "source": [
        "Problem 2. Solve each system: (30 points)"
      ],
      "metadata": {
        "id": "31zAsQ8wQEPN"
      }
    },
    {
      "cell_type": "code",
      "source": [
        "A = np.array([[3,-1,1],[9,-3,3],[-12,4,-4]])\n",
        "print(A)\n",
        "B = np.array([[5],[15],[-20]])\n",
        "print (B)\n",
        "\n",
        "# compute the pseudo inverse of A\n",
        "# computationally intensive for large problems\n",
        "Apinv = np.linalg.pinv(A)\n",
        "\n",
        "# apply the pseudo-inverse to the rhs\n",
        "# vector to obtain the `solution'\n",
        "x = Apinv.dot(B)\n",
        "print(x)"
      ],
      "metadata": {
        "colab": {
          "base_uri": "https://localhost:8080/"
        },
        "id": "fcwdVCOKQKXm",
        "outputId": "5c73479e-f276-44ea-8903-f3d4de78fad5"
      },
      "execution_count": 25,
      "outputs": [
        {
          "output_type": "stream",
          "name": "stdout",
          "text": [
            "[[  3  -1   1]\n",
            " [  9  -3   3]\n",
            " [-12   4  -4]]\n",
            "[[  5]\n",
            " [ 15]\n",
            " [-20]]\n",
            "[[ 1.36363636]\n",
            " [-0.45454545]\n",
            " [ 0.45454545]]\n"
          ]
        }
      ]
    },
    {
      "cell_type": "markdown",
      "source": [
        "Problem 3. Consider The Matrix (40points)"
      ],
      "metadata": {
        "id": "5761XOwYMMcg"
      }
    },
    {
      "cell_type": "code",
      "source": [
        "import numpy as np\n",
        "from numpy.linalg import eig\n",
        "\n",
        "A = np.array([[8, 5, -6], [-12, -9, 12], [-3, -3, 5]])\n",
        "print(A,\"\\n\")\n",
        "w,v = np.linalg.eig(A)\n",
        "print(\"Eigenvalue/s:\\n\",w.round(),\"\\n\")\n",
        "print(\"Eigenvector/s:\\n\",v.round())"
      ],
      "metadata": {
        "colab": {
          "base_uri": "https://localhost:8080/"
        },
        "id": "Uq2k2Li_MQ7t",
        "outputId": "ec54906d-96c4-4d1e-8f2b-b4fd0f9a828e"
      },
      "execution_count": 26,
      "outputs": [
        {
          "output_type": "stream",
          "name": "stdout",
          "text": [
            "[[  8   5  -6]\n",
            " [-12  -9  12]\n",
            " [ -3  -3   5]] \n",
            "\n",
            "Eigenvalue/s:\n",
            " [-1.  3.  2.] \n",
            "\n",
            "Eigenvector/s:\n",
            " [[ 0. -1.  1.]\n",
            " [-1.  1.  0.]\n",
            " [-0. -0.  1.]]\n"
          ]
        }
      ]
    }
  ]
}