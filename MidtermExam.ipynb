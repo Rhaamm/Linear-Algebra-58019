{
  "nbformat": 4,
  "nbformat_minor": 0,
  "metadata": {
    "colab": {
      "name": "MidtermExam.ipynb",
      "provenance": [],
      "authorship_tag": "ABX9TyMo79eaPbVuAwdNFf1Q/F3G",
      "include_colab_link": true
    },
    "kernelspec": {
      "name": "python3",
      "display_name": "Python 3"
    },
    "language_info": {
      "name": "python"
    }
  },
  "cells": [
    {
      "cell_type": "markdown",
      "metadata": {
        "id": "view-in-github",
        "colab_type": "text"
      },
      "source": [
        "<a href=\"https://colab.research.google.com/github/Rhaamm/Linear-Algebra-58019/blob/main/MidtermExam.ipynb\" target=\"_parent\"><img src=\"https://colab.research.google.com/assets/colab-badge.svg\" alt=\"Open In Colab\"/></a>"
      ]
    },
    {
      "cell_type": "markdown",
      "metadata": {
        "id": "jg0Lc22m7Qpa"
      },
      "source": [
        "#Midterm Examination"
      ]
    },
    {
      "cell_type": "markdown",
      "metadata": {
        "id": "3PuSQYS-BkPg"
      },
      "source": [
        "#Question 1"
      ]
    },
    {
      "cell_type": "code",
      "metadata": {
        "colab": {
          "base_uri": "https://localhost:8080/"
        },
        "id": "p3awMEJQBmMO",
        "outputId": "89163b6f-d9ea-4068-903f-5bc9175f311e"
      },
      "source": [
        "square_matrix = np.identity(5)\n",
        "print(f'Square Matrix whose length is 5: \\n{square_matrix}')"
      ],
      "execution_count": 8,
      "outputs": [
        {
          "output_type": "stream",
          "name": "stdout",
          "text": [
            "Square Matrix whose length is 5: \n",
            "[[1. 0. 0. 0. 0.]\n",
            " [0. 1. 0. 0. 0.]\n",
            " [0. 0. 1. 0. 0.]\n",
            " [0. 0. 0. 1. 0.]\n",
            " [0. 0. 0. 0. 1.]]\n"
          ]
        }
      ]
    },
    {
      "cell_type": "markdown",
      "metadata": {
        "id": "djeB6CEbBuOe"
      },
      "source": [
        "#Question 2"
      ]
    },
    {
      "cell_type": "code",
      "metadata": {
        "colab": {
          "base_uri": "https://localhost:8080/"
        },
        "id": "4AS34gPDBvvG",
        "outputId": "49027c7b-0ae7-42b6-8cef-49aef39e1b88"
      },
      "source": [
        "upper_triangular_matrix = np.array([[1,2,3],\n",
        "                                    [0,3,1],\n",
        "                                    [0,0,5]])\n",
        "print(upper_triangular_matrix)"
      ],
      "execution_count": 9,
      "outputs": [
        {
          "output_type": "stream",
          "name": "stdout",
          "text": [
            "[[1 2 3]\n",
            " [0 3 1]\n",
            " [0 0 5]]\n"
          ]
        }
      ]
    },
    {
      "cell_type": "markdown",
      "metadata": {
        "id": "Jzd_QInZBwc6"
      },
      "source": [
        "#Question 3"
      ]
    },
    {
      "cell_type": "code",
      "metadata": {
        "colab": {
          "base_uri": "https://localhost:8080/"
        },
        "id": "t3TwH9OzCwTw",
        "outputId": "34b2523c-f6f8-48ba-c573-1bb2bb1a8004"
      },
      "source": [
        "#Creates a square matrix which is symmetrical\n",
        "square_matrix = np.array ([[1,2,3,4,5],\n",
        "                           [2,1,2,3,4],\n",
        "                           [3,2,1,2,3],\n",
        "                           [4,3,2,1,2],\n",
        "                           [5,4,3,2,1]])\n",
        "#Prints a square matrix which is a symmetrical\n",
        "print ('A square matrix which is symmetrical')\n",
        "print (square_matrix)"
      ],
      "execution_count": 11,
      "outputs": [
        {
          "output_type": "stream",
          "name": "stdout",
          "text": [
            "A square matrix which is symmetrical\n",
            "[[1 2 3 4 5]\n",
            " [2 1 2 3 4]\n",
            " [3 2 1 2 3]\n",
            " [4 3 2 1 2]\n",
            " [5 4 3 2 1]]\n"
          ]
        }
      ]
    },
    {
      "cell_type": "markdown",
      "metadata": {
        "id": "D697gyBZ6QHT"
      },
      "source": [
        "#Question 4"
      ]
    },
    {
      "cell_type": "code",
      "metadata": {
        "colab": {
          "base_uri": "https://localhost:8080/"
        },
        "id": "M-lrGmkW5KuX",
        "outputId": "9bc8d3ac-b064-4d44-b585-356d74a0e135"
      },
      "source": [
        "import numpy as np\n",
        "\n",
        "C = np.array ([[1,2,3],[2,3,3],[3,4,-2]])\n",
        "\n",
        "invC = np.linalg.inv(C) #Inverse of Matrix C\n",
        "\n",
        "print(invC)"
      ],
      "execution_count": 6,
      "outputs": [
        {
          "output_type": "stream",
          "name": "stdout",
          "text": [
            "[[-3.6  3.2 -0.6]\n",
            " [ 2.6 -2.2  0.6]\n",
            " [-0.2  0.4 -0.2]]\n"
          ]
        }
      ]
    },
    {
      "cell_type": "markdown",
      "metadata": {
        "id": "kXTnqhgT6exw"
      },
      "source": [
        "#Question 5"
      ]
    },
    {
      "cell_type": "code",
      "metadata": {
        "colab": {
          "base_uri": "https://localhost:8080/"
        },
        "id": "X_cCx8vE6gK5",
        "outputId": "a5157db1-fd71-4223-e21a-499b53d7b564"
      },
      "source": [
        "import numpy as np\n",
        "\n",
        "C = np.array ([[1,2,3],[2,3,3],[3,4,-2]])\n",
        "\n",
        "detOfC = np.linalg.det(C)\n",
        "\n",
        "print(\"Determinant of the given matrix in Question 4:\")\n",
        "print(int(detOfC))"
      ],
      "execution_count": 5,
      "outputs": [
        {
          "output_type": "stream",
          "name": "stdout",
          "text": [
            "Determinant of the given matrix in Question 4:\n",
            "5\n"
          ]
        }
      ]
    },
    {
      "cell_type": "markdown",
      "metadata": {
        "id": "7DNRwqDB67IR"
      },
      "source": [
        "#Question 6"
      ]
    },
    {
      "cell_type": "code",
      "metadata": {
        "colab": {
          "base_uri": "https://localhost:8080/"
        },
        "id": "gvmpUuue68th",
        "outputId": "5c1e4291-1fca-4146-e042-4e02f795c1fc"
      },
      "source": [
        "import numpy as np\n",
        "\n",
        "Equations = np.array([[5,4,1],\n",
        "                      [10,9,4],\n",
        "                      [10,13,15]])\n",
        "\n",
        "Constants = np.array([[[3.4],\n",
        "                       [8.8],\n",
        "                       [19.2]]])\n",
        "\n",
        "roots = np.linalg.inv(Equations) @ Constants\n",
        "\n",
        "print(roots)"
      ],
      "execution_count": 7,
      "outputs": [
        {
          "output_type": "stream",
          "name": "stdout",
          "text": [
            "[[[0.2]\n",
            "  [0.4]\n",
            "  [0.8]]]\n"
          ]
        }
      ]
    }
  ]
}