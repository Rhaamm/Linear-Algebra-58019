{
  "nbformat": 4,
  "nbformat_minor": 0,
  "metadata": {
    "colab": {
      "name": "CodingActivity3.ipynb",
      "provenance": [],
      "authorship_tag": "ABX9TyNPjuBxzzTBWbn4jRtvUYrs",
      "include_colab_link": true
    },
    "kernelspec": {
      "name": "python3",
      "display_name": "Python 3"
    },
    "language_info": {
      "name": "python"
    }
  },
  "cells": [
    {
      "cell_type": "markdown",
      "metadata": {
        "id": "view-in-github",
        "colab_type": "text"
      },
      "source": [
        "<a href=\"https://colab.research.google.com/github/Rhaamm/Linear-Algebra-58019/blob/main/CodingActivity3.ipynb\" target=\"_parent\"><img src=\"https://colab.research.google.com/assets/colab-badge.svg\" alt=\"Open In Colab\"/></a>"
      ]
    },
    {
      "cell_type": "code",
      "metadata": {
        "colab": {
          "base_uri": "https://localhost:8080/"
        },
        "id": "oWs0-2yPXJ1r",
        "outputId": "f1aff8f9-4668-4120-9e0b-da1c794a24ec"
      },
      "source": [
        "import numpy as np\n",
        "A = np.array([[4,10,8],[10,26,26],[8,26,61]])\n",
        "B = np.array([[44],[128],[214]])\n",
        "\n",
        "inv_A = np.linalg.inv(A)\n",
        "x = np.linalg.inv(A).dot(B)\n",
        "\n",
        "print(A)\n",
        "print()\n",
        "print(inv_A)\n",
        "print()\n",
        "print(B)\n",
        "print()\n",
        "print(x)"
      ],
      "execution_count": 2,
      "outputs": [
        {
          "output_type": "stream",
          "name": "stdout",
          "text": [
            "[[ 4 10  8]\n",
            " [10 26 26]\n",
            " [ 8 26 61]]\n",
            "\n",
            "[[ 25.27777778 -11.16666667   1.44444444]\n",
            " [-11.16666667   5.          -0.66666667]\n",
            " [  1.44444444  -0.66666667   0.11111111]]\n",
            "\n",
            "[[ 44]\n",
            " [128]\n",
            " [214]]\n",
            "\n",
            "[[-8.]\n",
            " [ 6.]\n",
            " [ 2.]]\n"
          ]
        }
      ]
    }
  ]
}