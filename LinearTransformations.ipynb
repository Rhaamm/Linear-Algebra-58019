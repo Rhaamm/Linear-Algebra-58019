{
  "nbformat": 4,
  "nbformat_minor": 0,
  "metadata": {
    "colab": {
      "name": "LinearTransformations.ipynb",
      "provenance": [],
      "authorship_tag": "ABX9TyOi+Mm6lZjRVHGo7Eszyon+",
      "include_colab_link": true
    },
    "kernelspec": {
      "name": "python3",
      "display_name": "Python 3"
    },
    "language_info": {
      "name": "python"
    }
  },
  "cells": [
    {
      "cell_type": "markdown",
      "metadata": {
        "id": "view-in-github",
        "colab_type": "text"
      },
      "source": [
        "<a href=\"https://colab.research.google.com/github/Rhaamm/Linear-Algebra-58019/blob/main/LinearTransformations.ipynb\" target=\"_parent\"><img src=\"https://colab.research.google.com/assets/colab-badge.svg\" alt=\"Open In Colab\"/></a>"
      ]
    },
    {
      "cell_type": "code",
      "metadata": {
        "colab": {
          "base_uri": "https://localhost:8080/"
        },
        "id": "HkBqAAsKGv76",
        "outputId": "2e767f12-d1a7-4c38-9b89-4320278f3f97"
      },
      "source": [
        "import numpy as np\n",
        "a = np.array ([[1, 2, -1], [4, 6, -2,], [-1, 3, 3]])\n",
        "d = np.linalg.det(a)\n",
        "\n",
        "print (d)"
      ],
      "execution_count": 2,
      "outputs": [
        {
          "output_type": "stream",
          "name": "stdout",
          "text": [
            "-13.999999999999996\n"
          ]
        }
      ]
    }
  ]
}