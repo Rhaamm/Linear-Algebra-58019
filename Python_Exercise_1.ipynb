{
  "nbformat": 4,
  "nbformat_minor": 0,
  "metadata": {
    "colab": {
      "name": "Python Exercise 1.ipynb",
      "provenance": [],
      "toc_visible": true,
      "authorship_tag": "ABX9TyPKADoww20bHPQIHCdSY00Y",
      "include_colab_link": true
    },
    "kernelspec": {
      "name": "python3",
      "display_name": "Python 3"
    },
    "language_info": {
      "name": "python"
    }
  },
  "cells": [
    {
      "cell_type": "markdown",
      "metadata": {
        "id": "view-in-github",
        "colab_type": "text"
      },
      "source": [
        "<a href=\"https://colab.research.google.com/github/Rhaamm/Linear-Algebra-58019/blob/main/Python_Exercise_1.ipynb\" target=\"_parent\"><img src=\"https://colab.research.google.com/assets/colab-badge.svg\" alt=\"Open In Colab\"/></a>"
      ]
    },
    {
      "cell_type": "code",
      "metadata": {
        "colab": {
          "base_uri": "https://localhost:8080/"
        },
        "id": "fQGrFd9Q8hKQ",
        "outputId": "8e61b53c-4137-4fd1-d15f-a2d877864546"
      },
      "source": [
        "import numpy as np\n",
        "A = np.array([[-5,0],[4,1]]) \n",
        "B = np.array([[6,-3],[2,3]]) \n",
        "\n",
        "sum = np.add(A,B)\n",
        "\n",
        "print(\"Sum of A and B:\")\n",
        "print(sum)"
      ],
      "execution_count": 1,
      "outputs": [
        {
          "output_type": "stream",
          "name": "stdout",
          "text": [
            "Sum of A and B:\n",
            "[[ 1 -3]\n",
            " [ 6  4]]\n"
          ]
        }
      ]
    },
    {
      "cell_type": "code",
      "metadata": {
        "colab": {
          "base_uri": "https://localhost:8080/"
        },
        "id": "vGxl1pOIASJ-",
        "outputId": "f60b1356-b187-4eef-d660-1d6a9bc9d5c1"
      },
      "source": [
        "import numpy as np\n",
        "A = np.array([[-5,0],[4,1]]) \n",
        "B = np.array([[6,-3],[2,3]]) \n",
        "\n",
        "difference1 = np.subtract(A,B)\n",
        "print(\"\\nDifference of A and B:\")\n",
        "print(difference1)"
      ],
      "execution_count": 2,
      "outputs": [
        {
          "output_type": "stream",
          "name": "stdout",
          "text": [
            "\n",
            "Difference of A and B:\n",
            "[[-11   3]\n",
            " [  2  -2]]\n"
          ]
        }
      ]
    },
    {
      "cell_type": "code",
      "metadata": {
        "colab": {
          "base_uri": "https://localhost:8080/"
        },
        "id": "XEhZ7ND-BowX",
        "outputId": "2b714639-f568-4bfa-fc82-202e54674f50"
      },
      "source": [
        "import numpy as np\n",
        "A = np.array([[-5,0],[4,1]]) \n",
        "B = np.array([[6,-3],[2,3]]) \n",
        "\n",
        "difference2 = np.subtract(B,A)\n",
        "print(\"\\nDifference of B and A:\")\n",
        "print(difference2)"
      ],
      "execution_count": 3,
      "outputs": [
        {
          "output_type": "stream",
          "name": "stdout",
          "text": [
            "\n",
            "Difference of B and A:\n",
            "[[11 -3]\n",
            " [-2  2]]\n"
          ]
        }
      ]
    }
  ]
}